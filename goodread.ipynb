{
  "cells": [
    {
      "cell_type": "markdown",
      "source": [
        "#Importing the libraries"
      ],
      "metadata": {
        "id": "aFuY_qU29-9M"
      }
    },
    {
      "cell_type": "code",
      "execution_count": 43,
      "metadata": {
        "colab": {
          "base_uri": "https://localhost:8080/"
        },
        "id": "pNG-X0hG59Eu",
        "outputId": "069e7e8b-703e-406c-b5ee-5169111f4760"
      },
      "outputs": [
        {
          "output_type": "stream",
          "name": "stdout",
          "text": [
            "       bookID                                              title  \\\n",
            "0           1  Harry Potter and the Half-Blood Prince (Harry ...   \n",
            "1           2  Harry Potter and the Order of the Phoenix (Har...   \n",
            "2           4  Harry Potter and the Chamber of Secrets (Harry...   \n",
            "3           5  Harry Potter and the Prisoner of Azkaban (Harr...   \n",
            "4           8  Harry Potter Boxed Set  Books 1-5 (Harry Potte...   \n",
            "...       ...                                                ...   \n",
            "11118   45631   Expelled from Eden: A William T. Vollmann Reader   \n",
            "11119   45633                        You Bright and Risen Angels   \n",
            "11120   45634                    The Ice-Shirt (Seven Dreams #1)   \n",
            "11121   45639                                        Poor People   \n",
            "11122   45641                        Las aventuras de Tom Sawyer   \n",
            "\n",
            "                                                 authors  average_rating  \\\n",
            "0                             J.K. Rowling/Mary GrandPré            4.57   \n",
            "1                             J.K. Rowling/Mary GrandPré            4.49   \n",
            "2                                           J.K. Rowling            4.42   \n",
            "3                             J.K. Rowling/Mary GrandPré            4.56   \n",
            "4                             J.K. Rowling/Mary GrandPré            4.78   \n",
            "...                                                  ...             ...   \n",
            "11118  William T. Vollmann/Larry McCaffery/Michael He...            4.06   \n",
            "11119                                William T. Vollmann            4.08   \n",
            "11120                                William T. Vollmann            3.96   \n",
            "11121                                William T. Vollmann            3.72   \n",
            "11122                                         Mark Twain            3.91   \n",
            "\n",
            "             isbn         isbn13 language_code    num_pages  ratings_count  \\\n",
            "0      0439785960  9780439785969           eng          652        2095690   \n",
            "1      0439358078  9780439358071           eng          870        2153167   \n",
            "2      0439554896  9780439554893           eng          352           6333   \n",
            "3      043965548X  9780439655484           eng          435        2339585   \n",
            "4      0439682584  9780439682589           eng         2690          41428   \n",
            "...           ...            ...           ...          ...            ...   \n",
            "11118  1560254416  9781560254416           eng          512            156   \n",
            "11119  0140110879  9780140110876           eng          635            783   \n",
            "11120  0140131965  9780140131963           eng          415            820   \n",
            "11121  0060878827  9780060878825           eng          434            769   \n",
            "11122  8497646983  9788497646987           spa          272            113   \n",
            "\n",
            "       text_reviews_count publication_date        publisher  \n",
            "0                   27591        9/16/2006  Scholastic Inc.  \n",
            "1                   29221         9/1/2004  Scholastic Inc.  \n",
            "2                     244        11/1/2003       Scholastic  \n",
            "3                   36325         5/1/2004  Scholastic Inc.  \n",
            "4                     164        9/13/2004       Scholastic  \n",
            "...                   ...              ...              ...  \n",
            "11118                  20       12/21/2004    Da Capo Press  \n",
            "11119                  56        12/1/1988    Penguin Books  \n",
            "11120                  95         8/1/1993    Penguin Books  \n",
            "11121                 139        2/27/2007             Ecco  \n",
            "11122                  12        5/28/2006    Edimat Libros  \n",
            "\n",
            "[11123 rows x 12 columns]\n"
          ]
        }
      ],
      "source": [
        "import numpy as np\n",
        "import pandas as pd\n",
        "import seaborn as sns\n",
        "import matplotlib.pyplot as plt\n",
        "from sklearn.preprocessing import LabelEncoder\n",
        "\n",
        "\n",
        "data_url = 'https://gist.github.com/manutej/8e00f4110e7d4e40dbdc2b5985b1d59a/raw/9f6329ff83b4ea8eef74839b1f75f7d2acab6550/goodreads.csv'\n",
        "df = pd.read_csv(data_url, on_bad_lines='skip')\n",
        "print(df)"
      ]
    },
    {
      "cell_type": "markdown",
      "source": [
        "#Data Preparation: cleaning and transforming"
      ],
      "metadata": {
        "id": "HmwkMgVL-RD4"
      }
    },
    {
      "cell_type": "markdown",
      "source": [
        "####Handling missing data"
      ],
      "metadata": {
        "id": "i5XhDxq0_PR9"
      }
    },
    {
      "cell_type": "code",
      "execution_count": 44,
      "metadata": {
        "colab": {
          "base_uri": "https://localhost:8080/"
        },
        "id": "3lGj7nIO6CJ0",
        "outputId": "e087c4e5-c8cc-418f-e841-2b0eeaa13cd6"
      },
      "outputs": [
        {
          "output_type": "stream",
          "name": "stdout",
          "text": [
            "bookID                0\n",
            "title                 0\n",
            "authors               0\n",
            "average_rating        0\n",
            "isbn                  0\n",
            "isbn13                0\n",
            "language_code         0\n",
            "  num_pages           0\n",
            "ratings_count         0\n",
            "text_reviews_count    0\n",
            "publication_date      0\n",
            "publisher             0\n",
            "dtype: int64\n"
          ]
        }
      ],
      "source": [
        "print(df.isnull().sum())"
      ]
    },
    {
      "cell_type": "code",
      "execution_count": null,
      "metadata": {
        "id": "1csOAAWbIV2i"
      },
      "outputs": [],
      "source": []
    },
    {
      "cell_type": "code",
      "execution_count": 45,
      "metadata": {
        "colab": {
          "base_uri": "https://localhost:8080/"
        },
        "id": "qcqDMkXT6KSA",
        "outputId": "f49532c8-34b5-4b68-aa9b-24cb64d43b73"
      },
      "outputs": [
        {
          "output_type": "stream",
          "name": "stdout",
          "text": [
            "<class 'pandas.core.frame.DataFrame'>\n",
            "RangeIndex: 11123 entries, 0 to 11122\n",
            "Data columns (total 12 columns):\n",
            " #   Column              Non-Null Count  Dtype  \n",
            "---  ------              --------------  -----  \n",
            " 0   bookID              11123 non-null  int64  \n",
            " 1   title               11123 non-null  object \n",
            " 2   authors             11123 non-null  object \n",
            " 3   average_rating      11123 non-null  float64\n",
            " 4   isbn                11123 non-null  object \n",
            " 5   isbn13              11123 non-null  int64  \n",
            " 6   language_code       11123 non-null  object \n",
            " 7     num_pages         11123 non-null  int64  \n",
            " 8   ratings_count       11123 non-null  int64  \n",
            " 9   text_reviews_count  11123 non-null  int64  \n",
            " 10  publication_date    11123 non-null  object \n",
            " 11  publisher           11123 non-null  object \n",
            "dtypes: float64(1), int64(5), object(6)\n",
            "memory usage: 1.0+ MB\n",
            "None\n"
          ]
        }
      ],
      "source": [
        "print(df.info())"
      ]
    },
    {
      "cell_type": "code",
      "execution_count": 45,
      "metadata": {
        "id": "TQqWCDK0JIbT"
      },
      "outputs": [],
      "source": []
    },
    {
      "cell_type": "code",
      "execution_count": 30,
      "metadata": {
        "colab": {
          "base_uri": "https://localhost:8080/"
        },
        "id": "oXJ19W4fTrlj",
        "outputId": "09872f77-a975-409e-dd75-62ea22f0cb7a"
      },
      "outputs": [
        {
          "output_type": "stream",
          "name": "stdout",
          "text": [
            "0        Harry Potter and the Half-Blood Prince (Harry ...\n",
            "1        Harry Potter and the Order of the Phoenix (Har...\n",
            "2        Harry Potter and the Chamber of Secrets (Harry...\n",
            "3        Harry Potter and the Prisoner of Azkaban (Harr...\n",
            "4        Harry Potter Boxed Set  Books 1-5 (Harry Potte...\n",
            "                               ...                        \n",
            "11118     Expelled from Eden: A William T. Vollmann Reader\n",
            "11119                          You Bright and Risen Angels\n",
            "11120                      The Ice-Shirt (Seven Dreams #1)\n",
            "11121                                          Poor People\n",
            "11122                          Las aventuras de Tom Sawyer\n",
            "Name: title, Length: 11123, dtype: object\n"
          ]
        }
      ],
      "source": [
        "print(df['title'])"
      ]
    },
    {
      "cell_type": "code",
      "execution_count": null,
      "metadata": {
        "id": "sPRyjG2iTrcA"
      },
      "outputs": [],
      "source": []
    },
    {
      "cell_type": "code",
      "execution_count": 46,
      "metadata": {
        "colab": {
          "base_uri": "https://localhost:8080/"
        },
        "id": "3ktrflOPJJrj",
        "outputId": "86d4b49c-70a8-44f9-e841-d569b1cbe9c4"
      },
      "outputs": [
        {
          "output_type": "execute_result",
          "data": {
            "text/plain": [
              "0                               J.K. Rowling/Mary GrandPré\n",
              "1                               J.K. Rowling/Mary GrandPré\n",
              "2                                             J.K. Rowling\n",
              "3                               J.K. Rowling/Mary GrandPré\n",
              "4                               J.K. Rowling/Mary GrandPré\n",
              "                               ...                        \n",
              "11118    William T. Vollmann/Larry McCaffery/Michael He...\n",
              "11119                                  William T. Vollmann\n",
              "11120                                  William T. Vollmann\n",
              "11121                                  William T. Vollmann\n",
              "11122                                           Mark Twain\n",
              "Name: authors, Length: 11123, dtype: object"
            ]
          },
          "metadata": {},
          "execution_count": 46
        }
      ],
      "source": [
        "df['authors']"
      ]
    },
    {
      "cell_type": "code",
      "execution_count": null,
      "metadata": {
        "id": "jpW88aL_JKIl"
      },
      "outputs": [],
      "source": []
    },
    {
      "cell_type": "markdown",
      "source": [
        "####Encoding Categorical Variables"
      ],
      "metadata": {
        "id": "jnV4qG2N_d5G"
      }
    },
    {
      "cell_type": "code",
      "execution_count": 47,
      "metadata": {
        "colab": {
          "base_uri": "https://localhost:8080/"
        },
        "id": "wn64AT_q6Nub",
        "outputId": "8ee36cef-c72a-430f-dea0-ff06446353bd"
      },
      "outputs": [
        {
          "output_type": "stream",
          "name": "stdout",
          "text": [
            "0        2626\n",
            "1        2626\n",
            "2        2622\n",
            "3        2626\n",
            "4        2626\n",
            "         ... \n",
            "11118    6556\n",
            "11119    6555\n",
            "11120    6555\n",
            "11121    6555\n",
            "11122    4116\n",
            "Name: authors_encoded, Length: 11123, dtype: int64\n"
          ]
        }
      ],
      "source": [
        "from sklearn.preprocessing import LabelEncoder\n",
        "label_encoder = LabelEncoder()\n",
        "df['authors_encoded'] = label_encoder.fit_transform(df['authors'])\n",
        "print(df['authors_encoded'])"
      ]
    },
    {
      "cell_type": "code",
      "execution_count": 48,
      "metadata": {
        "colab": {
          "base_uri": "https://localhost:8080/"
        },
        "id": "kGAcFGdk6Qqy",
        "outputId": "a65af1aa-52ff-4a1d-f130-0b726d606338"
      },
      "outputs": [
        {
          "output_type": "stream",
          "name": "stdout",
          "text": [
            "authors_encoded\n",
            "5786    40\n",
            "4747    40\n",
            "5470    39\n",
            "4711    35\n",
            "46      33\n",
            "        ..\n",
            "3738     1\n",
            "27       1\n",
            "4438     1\n",
            "6054     1\n",
            "6556     1\n",
            "Name: count, Length: 6639, dtype: int64\n"
          ]
        }
      ],
      "source": [
        "print(df['authors_encoded'].value_counts())"
      ]
    },
    {
      "cell_type": "code",
      "execution_count": 15,
      "metadata": {
        "id": "YqDbl3Pd6UXm"
      },
      "outputs": [],
      "source": []
    },
    {
      "cell_type": "markdown",
      "source": [
        "#Visualize and Explore the Data"
      ],
      "metadata": {
        "id": "gRUuL3M4AIdV"
      }
    },
    {
      "cell_type": "code",
      "execution_count": 49,
      "metadata": {
        "colab": {
          "base_uri": "https://localhost:8080/",
          "height": 472
        },
        "id": "4cHvvq8LyCwY",
        "outputId": "726c8e1b-6008-4fe4-910b-7de3e9b3f6f8"
      },
      "outputs": [
        {
          "output_type": "display_data",
          "data": {
            "text/plain": [
              "<Figure size 640x480 with 1 Axes>"
            ],
            "image/png": "[encoded data removed]"
          },
          "metadata": {}
        }
      ],
      "source": [
        "import matplotlib.pyplot as plt\n",
        "import seaborn as sns\n",
        "\n",
        "# Summary statistics\n",
        "summary_stats = pd.DataFrame({\n",
        "    'Data Types': df.dtypes,\n",
        "    'Missing values': df.isnull().sum(),\n",
        "    'Unique values': df.nunique()\n",
        "})\n",
        "\n",
        "#Data visualization\n",
        "sns.histplot(df['average_rating'], bins=30, kde=True)\n",
        "plt.title('Distribution of Average Ratings')\n",
        "plt.show()\n"
      ]
    },
    {
      "cell_type": "code",
      "execution_count": 50,
      "metadata": {
        "colab": {
          "base_uri": "https://localhost:8080/",
          "height": 433
        },
        "id": "6jEDU1jj0JGg",
        "outputId": "e523ef38-0df5-4ab1-a9b1-00102353e1cb"
      },
      "outputs": [
        {
          "output_type": "display_data",
          "data": {
            "text/plain": [
              "<Figure size 640x480 with 1 Axes>"
            ],
            "image/png": "[encoded data removed]"
          },
          "metadata": {}
        }
      ],
      "source": [
        "sns.boxplot(df['average_rating'])\n",
        "plt.title('Distribution of Average Ratings')\n",
        "plt.show()\n"
      ]
    },
    {
      "cell_type": "code",
      "execution_count": null,
      "metadata": {
        "id": "S-jvq7FiHn73"
      },
      "outputs": [],
      "source": []
    },
    {
      "cell_type": "code",
      "execution_count": 51,
      "metadata": {
        "colab": {
          "base_uri": "https://localhost:8080/",
          "height": 484
        },
        "id": "Bxjb7QS2Hnlc",
        "outputId": "0e37a008-423b-430d-a5cb-f28540d78efe"
      },
      "outputs": [
        {
          "output_type": "display_data",
          "data": {
            "text/plain": [
              "<Figure size 640x480 with 1 Axes>"
            ],
            "image/png": "[encoded data removed]"
          },
          "metadata": {}
        }
      ],
      "source": [
        "plt.hist(df['average_rating'], bins=30, density=True, color='lightblue')\n",
        "font1 = {'family':'serif','color':'blue','size':20}\n",
        "font2 = {'family':'serif','color':'darkred','size':15}\n",
        "\n",
        "plt.title(\"Books Rating\", fontdict = font1)\n",
        "plt.xlabel(\"Average Rating\", fontdict = font2)\n",
        "plt.ylabel(\"Probability\", fontdict = font2)\n",
        "plt.show()"
      ]
    },
    {
      "cell_type": "code",
      "execution_count": null,
      "metadata": {
        "id": "8YedbSB5HnXX"
      },
      "outputs": [],
      "source": []
    },
    {
      "cell_type": "markdown",
      "metadata": {
        "id": "jamrY3a36CH8"
      },
      "source": [
        "#Modeling and making predictions"
      ]
    },
    {
      "cell_type": "markdown",
      "metadata": {
        "id": "WpXeUVjZ6Jje"
      },
      "source": [
        "###Setting up Data for Modeling"
      ]
    },
    {
      "cell_type": "code",
      "execution_count": 52,
      "metadata": {
        "id": "9ylvIKoV63Uh",
        "colab": {
          "base_uri": "https://localhost:8080/"
        },
        "outputId": "3a9e4e5d-43e7-4904-8bd7-d914b3ddab24"
      },
      "outputs": [
        {
          "output_type": "stream",
          "name": "stdout",
          "text": [
            "Index(['bookID', 'title', 'authors', 'average_rating', 'isbn', 'isbn13',\n",
            "       'language_code', '  num_pages', 'ratings_count', 'text_reviews_count',\n",
            "       'publication_date', 'publisher', 'authors_encoded'],\n",
            "      dtype='object')\n"
          ]
        }
      ],
      "source": [
        "print(df.columns)"
      ]
    },
    {
      "cell_type": "code",
      "execution_count": null,
      "metadata": {
        "id": "_ZEF8SfsUzCa"
      },
      "outputs": [],
      "source": []
    },
    {
      "cell_type": "code",
      "execution_count": 54,
      "metadata": {
        "id": "eFn0j2QSUyme",
        "colab": {
          "base_uri": "https://localhost:8080/"
        },
        "outputId": "f09f478f-684f-479c-8fc0-50d641df3a6b"
      },
      "outputs": [
        {
          "output_type": "stream",
          "name": "stdout",
          "text": [
            "<class 'pandas.core.frame.DataFrame'>\n",
            "RangeIndex: 11123 entries, 0 to 11122\n",
            "Data columns (total 13 columns):\n",
            " #   Column              Non-Null Count  Dtype  \n",
            "---  ------              --------------  -----  \n",
            " 0   bookID              11123 non-null  int64  \n",
            " 1   title               11123 non-null  object \n",
            " 2   authors             11123 non-null  object \n",
            " 3   average_rating      11123 non-null  float64\n",
            " 4   isbn                11123 non-null  object \n",
            " 5   isbn13              11123 non-null  int64  \n",
            " 6   language_code       11123 non-null  object \n",
            " 7   num_pages           11123 non-null  int64  \n",
            " 8   ratings_count       11123 non-null  int64  \n",
            " 9   text_reviews_count  11123 non-null  int64  \n",
            " 10  publication_date    11123 non-null  object \n",
            " 11  publisher           11123 non-null  object \n",
            " 12  authors_encoded     11123 non-null  int64  \n",
            "dtypes: float64(1), int64(6), object(6)\n",
            "memory usage: 1.1+ MB\n",
            "None\n",
            " \n",
            "X_train:  (8898, 1)\n",
            "X_test:  (2225, 1)\n",
            "y_train:  (8898,)\n",
            "y_test:  (2225,)\n"
          ]
        }
      ],
      "source": [
        "from sklearn.linear_model import LinearRegression\n",
        "from sklearn.metrics import mean_squared_error\n",
        "from sklearn.model_selection import train_test_split\n",
        "\n",
        "df.rename(columns={'  num_pages':'num_pages'}, inplace=True)\n",
        "X = df[['num_pages']]\n",
        "y = df['average_rating']\n",
        "\n",
        "X_train, X_test, y_train, y_test = train_test_split(X, y, test_size=0.2, random_state=42)\n",
        "\n",
        "print(df.info())\n",
        "print(' ')\n",
        "print('X_train: ', X_train.shape)\n",
        "print('X_test: ', X_test.shape)\n",
        "print('y_train: ', y_train.shape)\n",
        "print('y_test: ',y_test.shape)"
      ]
    },
    {
      "cell_type": "code",
      "execution_count": null,
      "metadata": {
        "id": "ZKktQXjsou1w"
      },
      "outputs": [],
      "source": []
    },
    {
      "cell_type": "code",
      "execution_count": 55,
      "metadata": {
        "id": "Mq3Cihtpouu3",
        "colab": {
          "base_uri": "https://localhost:8080/"
        },
        "outputId": "faefec15-8f39-4a40-f6ca-67654f8e5738"
      },
      "outputs": [
        {
          "output_type": "stream",
          "name": "stdout",
          "text": [
            "       num_pages\n",
            "3279          80\n",
            "4001         182\n",
            "10602        352\n",
            "6604         364\n",
            "7691         371\n",
            " \n",
            "3279     3.92\n",
            "4001     3.91\n",
            "10602    4.19\n",
            "6604     4.06\n",
            "7691     4.01\n",
            "Name: average_rating, dtype: float64\n"
          ]
        }
      ],
      "source": [
        "print(X_train.head())\n",
        "print(' ')\n",
        "print(y_train.head())"
      ]
    },
    {
      "cell_type": "code",
      "execution_count": null,
      "metadata": {
        "id": "QN9pMeaKUya1"
      },
      "outputs": [],
      "source": []
    },
    {
      "cell_type": "markdown",
      "metadata": {
        "id": "vwshmv8r_-qj"
      },
      "source": [
        "###Creating and Training the Model"
      ]
    },
    {
      "cell_type": "code",
      "execution_count": 56,
      "metadata": {
        "id": "OQfxbHLm63SL",
        "colab": {
          "base_uri": "https://localhost:8080/",
          "height": 75
        },
        "outputId": "1bddefce-e911-4f75-8fe5-93b36b5982da"
      },
      "outputs": [
        {
          "output_type": "execute_result",
          "data": {
            "text/plain": [
              "LinearRegression()"
            ],
            "text/html": [
              "<style>#sk-container-id-2 {color: black;background-color: white;}#sk-container-id-2 pre{padding: 0;}#sk-container-id-2 div.sk-toggleable {background-color: white;}#sk-container-id-2 label.sk-toggleable__label {cursor: pointer;display: block;width: 100%;margin-bottom: 0;padding: 0.3em;box-sizing: border-box;text-align: center;}#sk-container-id-2 label.sk-toggleable__label-arrow:before {content: \"▸\";float: left;margin-right: 0.25em;color: #696969;}#sk-container-id-2 label.sk-toggleable__label-arrow:hover:before {color: black;}#sk-container-id-2 div.sk-estimator:hover label.sk-toggleable__label-arrow:before {color: black;}#sk-container-id-2 div.sk-toggleable__content {max-height: 0;max-width: 0;overflow: hidden;text-align: left;background-color: #f0f8ff;}#sk-container-id-2 div.sk-toggleable__content pre {margin: 0.2em;color: black;border-radius: 0.25em;background-color: #f0f8ff;}#sk-container-id-2 input.sk-toggleable__control:checked~div.sk-toggleable__content {max-height: 200px;max-width: 100%;overflow: auto;}#sk-container-id-2 input.sk-toggleable__control:checked~label.sk-toggleable__label-arrow:before {content: \"▾\";}#sk-container-id-2 div.sk-estimator input.sk-toggleable__control:checked~label.sk-toggleable__label {background-color: #d4ebff;}#sk-container-id-2 div.sk-label input.sk-toggleable__control:checked~label.sk-toggleable__label {background-color: #d4ebff;}#sk-container-id-2 input.sk-hidden--visually {border: 0;clip: rect(1px 1px 1px 1px);clip: rect(1px, 1px, 1px, 1px);height: 1px;margin: -1px;overflow: hidden;padding: 0;position: absolute;width: 1px;}#sk-container-id-2 div.sk-estimator {font-family: monospace;background-color: #f0f8ff;border: 1px dotted black;border-radius: 0.25em;box-sizing: border-box;margin-bottom: 0.5em;}#sk-container-id-2 div.sk-estimator:hover {background-color: #d4ebff;}#sk-container-id-2 div.sk-parallel-item::after {content: \"\";width: 100%;border-bottom: 1px solid gray;flex-grow: 1;}#sk-container-id-2 div.sk-label:hover label.sk-toggleable__label {background-color: #d4ebff;}#sk-container-id-2 div.sk-serial::before {content: \"\";position: absolute;border-left: 1px solid gray;box-sizing: border-box;top: 0;bottom: 0;left: 50%;z-index: 0;}#sk-container-id-2 div.sk-serial {display: flex;flex-direction: column;align-items: center;background-color: white;padding-right: 0.2em;padding-left: 0.2em;position: relative;}#sk-container-id-2 div.sk-item {position: relative;z-index: 1;}#sk-container-id-2 div.sk-parallel {display: flex;align-items: stretch;justify-content: center;background-color: white;position: relative;}#sk-container-id-2 div.sk-item::before, #sk-container-id-2 div.sk-parallel-item::before {content: \"\";position: absolute;border-left: 1px solid gray;box-sizing: border-box;top: 0;bottom: 0;left: 50%;z-index: -1;}#sk-container-id-2 div.sk-parallel-item {display: flex;flex-direction: column;z-index: 1;position: relative;background-color: white;}#sk-container-id-2 div.sk-parallel-item:first-child::after {align-self: flex-end;width: 50%;}#sk-container-id-2 div.sk-parallel-item:last-child::after {align-self: flex-start;width: 50%;}#sk-container-id-2 div.sk-parallel-item:only-child::after {width: 0;}#sk-container-id-2 div.sk-dashed-wrapped {border: 1px dashed gray;margin: 0 0.4em 0.5em 0.4em;box-sizing: border-box;padding-bottom: 0.4em;background-color: white;}#sk-container-id-2 div.sk-label label {font-family: monospace;font-weight: bold;display: inline-block;line-height: 1.2em;}#sk-container-id-2 div.sk-label-container {text-align: center;}#sk-container-id-2 div.sk-container {/* jupyter's `normalize.less` sets `[hidden] { display: none; }` but bootstrap.min.css set `[hidden] { display: none !important; }` so we also need the `!important` here to be able to override the default hidden behavior on the sphinx rendered scikit-learn.org. See: https://github.com/scikit-learn/scikit-learn/issues/21755 */display: inline-block !important;position: relative;}#sk-container-id-2 div.sk-text-repr-fallback {display: none;}</style><div id=\"sk-container-id-2\" class=\"sk-top-container\"><div class=\"sk-text-repr-fallback\"><pre>LinearRegression()</pre><b>In a Jupyter environment, please rerun this cell to show the HTML representation or trust the notebook. <br />On GitHub, the HTML representation is unable to render, please try loading this page with nbviewer.org.</b></div><div class=\"sk-container\" hidden><div class=\"sk-item\"><div class=\"sk-estimator sk-toggleable\"><input class=\"sk-toggleable__control sk-hidden--visually\" id=\"sk-estimator-id-2\" type=\"checkbox\" checked><label for=\"sk-estimator-id-2\" class=\"sk-toggleable__label sk-toggleable__label-arrow\">LinearRegression</label><div class=\"sk-toggleable__content\"><pre>LinearRegression()</pre></div></div></div></div></div>"
            ]
          },
          "metadata": {},
          "execution_count": 56
        }
      ],
      "source": [
        "#Creating the Model\n",
        "model = LinearRegression()\n",
        "\n",
        "#Transforming the Model\n",
        "model.fit(X_train, y_train)"
      ]
    },
    {
      "cell_type": "code",
      "execution_count": null,
      "metadata": {
        "id": "DoqfT9sW63Ps"
      },
      "outputs": [],
      "source": []
    },
    {
      "cell_type": "markdown",
      "metadata": {
        "id": "e2eBggEEAkCA"
      },
      "source": [
        "###Making Predictions and Evaluation the Model"
      ]
    },
    {
      "cell_type": "code",
      "execution_count": 58,
      "metadata": {
        "id": "AfhS6Yp363Ik",
        "colab": {
          "base_uri": "https://localhost:8080/"
        },
        "outputId": "0869150b-bc41-4f8c-9e8c-ef2819cb68e5"
      },
      "outputs": [
        {
          "output_type": "stream",
          "name": "stdout",
          "text": [
            "Mean Squared Error: 0.12314531420128803\n"
          ]
        }
      ],
      "source": [
        "#Making Predictions\n",
        "y_pred = model.predict(X_test)\n",
        "\n",
        "#Evaluating the Model\n",
        "mse = mean_squared_error(y_test, y_pred)\n",
        "print(f\"Mean Squared Error: {mse}\")"
      ]
    },
    {
      "cell_type": "code",
      "execution_count": null,
      "metadata": {
        "id": "y-fsFcqPbqqu"
      },
      "outputs": [],
      "source": []
    }
  ],
  "metadata": {
    "colab": {
      "provenance": []
    },
    "kernelspec": {
      "display_name": "Python 3",
      "name": "python3"
    },
    "language_info": {
      "name": "python"
    }
  },
  "nbformat": 4,
  "nbformat_minor": 0
}